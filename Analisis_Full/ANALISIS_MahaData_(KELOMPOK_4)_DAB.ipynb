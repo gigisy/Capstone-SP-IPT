{
  "nbformat": 4,
  "nbformat_minor": 0,
  "metadata": {
    "colab": {
      "provenance": [],
      "collapsed_sections": [
        "wZOxPQzL4IRv",
        "V7pKy6rC4MS_",
        "erE0V3KX4953",
        "Q9eR0qGn8xnB",
        "w7dnV3gE9NmT",
        "NINewApk9Rt9",
        "i5NoateO4QAD",
        "XsyPBp7eByuL",
        "oktVSSb7B1qD",
        "7m6uq63iB64L",
        "dIW_ZAnZCBXm",
        "PpZta3XDCEkd",
        "W50q_FOWCKwv"
      ],
      "include_colab_link": true
    },
    "kernelspec": {
      "name": "python3",
      "display_name": "Python 3"
    },
    "language_info": {
      "name": "python"
    }
  },
  "cells": [
    {
      "cell_type": "markdown",
      "metadata": {
        "id": "view-in-github",
        "colab_type": "text"
      },
      "source": [
        "<a href=\"https://colab.research.google.com/github/gigisy/Capstone-SP-IPT/blob/main/Analisis_Full/ANALISIS_MahaData_(KELOMPOK_4)_DAB.ipynb\" target=\"_parent\"><img src=\"https://colab.research.google.com/assets/colab-badge.svg\" alt=\"Open In Colab\"/></a>"
      ]
    },
    {
      "cell_type": "code",
      "execution_count": null,
      "metadata": {
        "id": "kMqJiBhA30GW"
      },
      "outputs": [],
      "source": [
        "import pandas as pd\n",
        "import os\n",
        "import glob\n",
        "import re\n",
        "import numpy as np\n",
        "import matplotlib.pyplot as plt\n",
        "import seaborn as sns\n",
        "import statsmodels.api as sm\n",
        "from sklearn.preprocessing import OneHotEncoder\n",
        "from sklearn.model_selection import train_test_split\n",
        "from sklearn.linear_model import LinearRegression\n",
        "from sklearn.metrics import mean_squared_error, r2_score"
      ]
    },
    {
      "cell_type": "markdown",
      "source": [
        "# 1. PRODUK TERLARIS DAN KURANG LAKU"
      ],
      "metadata": {
        "id": "wZOxPQzL4IRv"
      }
    },
    {
      "cell_type": "markdown",
      "source": [
        "Untuk menjawab soal ini dapat dilihat pada Tableau terdapat chart yang berjudul Total Product with High Repeat Orders dan Sum of Product based on Customers.\n",
        "\n",
        "Pada Bagian colab ini kami hanya menampilkan berapa banyak produk yang dipesan oleh customer dengan repeat order hanya 1 hingga 5 kali."
      ],
      "metadata": {
        "id": "A_Mp697uOm0r"
      }
    },
    {
      "cell_type": "code",
      "source": [
        "from google.colab import drive\n",
        "drive.mount('/content/drive')\n",
        "file_outgoing = '/content/drive/MyDrive/DATA FIXX BENERAN DIPAKE/Outgoing_FIX_Beneran.xlsx'"
      ],
      "metadata": {
        "id": "8FErVRJP-o9i"
      },
      "execution_count": null,
      "outputs": []
    },
    {
      "cell_type": "code",
      "source": [
        "# Membaca data transaksi\n",
        "outgoing_df = pd.read_excel(file_outgoing)\n",
        "outgoing_df"
      ],
      "metadata": {
        "id": "UMDZZVoZ-qvj"
      },
      "execution_count": null,
      "outputs": []
    },
    {
      "cell_type": "code",
      "source": [
        "outgoing_df.info()"
      ],
      "metadata": {
        "colab": {
          "base_uri": "https://localhost:8080/"
        },
        "id": "e57vOyif-_3I",
        "outputId": "ddb5658d-1d4a-4487-baa4-b845dae1baf2"
      },
      "execution_count": null,
      "outputs": [
        {
          "output_type": "stream",
          "name": "stdout",
          "text": [
            "<class 'pandas.core.frame.DataFrame'>\n",
            "RangeIndex: 303369 entries, 0 to 303368\n",
            "Data columns (total 13 columns):\n",
            " #   Column                               Non-Null Count   Dtype         \n",
            "---  ------                               --------------   -----         \n",
            " 0   Number                               303369 non-null  object        \n",
            " 1   Customer/RecordName                  303369 non-null  object        \n",
            " 2   Shipping Type                        303369 non-null  object        \n",
            " 3   Inventory Moves/Product/Record Name  303369 non-null  object        \n",
            " 4   Inventory Moves/Internal Quantity    303369 non-null  int64         \n",
            " 5   Pickup No                            303369 non-null  object        \n",
            " 6   Invoice No                           303369 non-null  object        \n",
            " 7   Sale Date                            303369 non-null  datetime64[ns]\n",
            " 8   Document No                          303369 non-null  object        \n",
            " 9   Done at                              303369 non-null  datetime64[ns]\n",
            " 10  Delay                                303369 non-null  int64         \n",
            " 11  State                                303369 non-null  object        \n",
            " 12  Bulan                                303369 non-null  int32         \n",
            "dtypes: datetime64[ns](2), int32(1), int64(2), object(8)\n",
            "memory usage: 28.9+ MB\n"
          ]
        }
      ]
    },
    {
      "cell_type": "code",
      "source": [
        "# Hitung jumlah pelanggan unik yang melakukan repeat order per produk\n",
        "unique_repeat_customers = outgoing_df.groupby('Inventory Moves/Product/Record Name')['Customer/RecordName'].nunique().reset_index()\n",
        "\n",
        "# Ubah nama kolom agar lebih mudah dipahami\n",
        "unique_repeat_customers.columns = ['Product', 'UniqueRepeatCustomers']\n",
        "\n",
        "# Urutkan data berdasarkan jumlah pelanggan unik (descending)\n",
        "unique_repeat_customers = unique_repeat_customers.sort_values(by=['UniqueRepeatCustomers'], ascending=False)\n",
        "\n",
        "# Tampilkan data\n",
        "display(unique_repeat_customers)\n",
        "\n",
        "# Produk dengan pelanggan unik terbanyak yang melakukan repeat order\n",
        "highest_unique_repeat_product = unique_repeat_customers.iloc[0]\n",
        "\n",
        "# Produk dengan pelanggan unik paling sedikit yang melakukan repeat order\n",
        "lowest_unique_repeat_product = unique_repeat_customers.iloc[-1]\n",
        "\n",
        "# Tampilkan hasil\n",
        "print(f\"Produk dengan pelanggan unik terbanyak yang melakukan repeat order: {highest_unique_repeat_product['Product']} ({highest_unique_repeat_product['UniqueRepeatCustomers']} pelanggan)\")\n",
        "print(f\"Produk dengan pelanggan unik paling sedikit yang melakukan repeat order: {lowest_unique_repeat_product['Product']} ({lowest_unique_repeat_product['UniqueRepeatCustomers']} pelanggan)\")"
      ],
      "metadata": {
        "id": "qubD_EexOyzh"
      },
      "execution_count": null,
      "outputs": []
    },
    {
      "cell_type": "code",
      "source": [
        "# Hitung jumlah repeat order per produk per pelanggan\n",
        "repeat_orders_per_customer = outgoing_df.groupby(['Customer/RecordName', 'Inventory Moves/Product/Record Name'])['Number'].count().reset_index()\n",
        "repeat_orders_per_customer.columns = ['Customer', 'Product', 'RepeatOrderCount']\n",
        "\n",
        "# Hitung jumlah produk untuk setiap jumlah repeat order\n",
        "repeat_order_counts = repeat_orders_per_customer.groupby('RepeatOrderCount')['Product'].nunique().reset_index()\n",
        "repeat_order_counts.columns = ['RepeatOrderCount', 'ProductCount']\n",
        "\n",
        "# Filter untuk repeat order 1 sampai 5\n",
        "repeat_order_counts_1_to_5 = repeat_order_counts[repeat_order_counts['RepeatOrderCount'].between(1, 5)]\n",
        "\n",
        "\n",
        "# Tampilkan hasil\n",
        "for index, row in repeat_order_counts_1_to_5.iterrows():\n",
        "    print(f\"Jumlah produk yang di-repeat order sebanyak {row['RepeatOrderCount']} kali: {row['ProductCount']}\")"
      ],
      "metadata": {
        "id": "RJlAmkPc-4lg",
        "colab": {
          "base_uri": "https://localhost:8080/"
        },
        "outputId": "7e955c83-9b2e-41e7-aee5-016f9189ad06"
      },
      "execution_count": null,
      "outputs": [
        {
          "output_type": "stream",
          "name": "stdout",
          "text": [
            "Jumlah produk yang di-repeat order sebanyak 1 kali: 24751\n",
            "Jumlah produk yang di-repeat order sebanyak 2 kali: 11011\n",
            "Jumlah produk yang di-repeat order sebanyak 3 kali: 5196\n",
            "Jumlah produk yang di-repeat order sebanyak 4 kali: 2770\n",
            "Jumlah produk yang di-repeat order sebanyak 5 kali: 1627\n"
          ]
        }
      ]
    },
    {
      "cell_type": "code",
      "source": [
        "import matplotlib.pyplot as plt\n",
        "import numpy as np\n",
        "\n",
        "# ... (kode sebelumnya untuk menghitung repeat_order_counts_1_to_5) ...\n",
        "\n",
        "# Buat bar chart\n",
        "plt.figure(figsize=(10, 6))\n",
        "bars = plt.bar(repeat_order_counts_1_to_5['RepeatOrderCount'], repeat_order_counts_1_to_5['ProductCount'], color='skyblue')\n",
        "\n",
        "# Tambahkan angka di dalam bar\n",
        "for bar in bars:\n",
        "    yval = bar.get_height()\n",
        "    plt.text(bar.get_x() + bar.get_width()/2, yval - 5 , round(yval,0), ha='center', va='top', color='black', fontweight='bold')\n",
        "\n",
        "\n",
        "# Atur label dan judul\n",
        "plt.xlabel(\"Jumlah Repeat Order\")\n",
        "plt.ylabel(\"Jumlah Produk\")\n",
        "plt.title(\"Jumlah Produk dengan Repeat Order 1-5 Kali\")\n",
        "\n",
        "plt.xticks(repeat_order_counts_1_to_5['RepeatOrderCount'])  # Menampilkan semua nilai RepeatOrderCount pada sumbu x\n",
        "\n",
        "# Tampilkan bar chart\n",
        "plt.show()"
      ],
      "metadata": {
        "id": "IyFAoNA_e_1P",
        "outputId": "d0e5376d-6b27-43c5-d34f-68e158bb723d",
        "colab": {
          "base_uri": "https://localhost:8080/",
          "height": 564
        }
      },
      "execution_count": null,
      "outputs": [
        {
          "output_type": "display_data",
          "data": {
            "text/plain": [
              "<Figure size 1000x600 with 1 Axes>"
            ],
            "image/png": "[encoded data removed]"
          },
          "metadata": {}
        }
      ]
    },
    {
      "cell_type": "markdown",
      "source": [
        "# 2. ANALISIS EVALUASI PEMASARAN"
      ],
      "metadata": {
        "id": "V7pKy6rC4MS_"
      }
    },
    {
      "cell_type": "markdown",
      "source": [
        "## Import Dataset Yang Akan Digunakan"
      ],
      "metadata": {
        "id": "erE0V3KX4953"
      }
    },
    {
      "cell_type": "code",
      "source": [
        "from google.colab import drive\n",
        "drive.mount('/content/drive')\n",
        "file_outgoing = '/content/drive/MyDrive/DATA FIXX BENERAN DIPAKE/Outgoing_FIX_Beneran.xlsx'"
      ],
      "metadata": {
        "colab": {
          "base_uri": "https://localhost:8080/"
        },
        "id": "yCke6Knq4Pzw",
        "outputId": "9aec3e63-4a0a-4fd1-96dc-8ff6c85eae46"
      },
      "execution_count": null,
      "outputs": [
        {
          "output_type": "stream",
          "name": "stdout",
          "text": [
            "Drive already mounted at /content/drive; to attempt to forcibly remount, call drive.mount(\"/content/drive\", force_remount=True).\n"
          ]
        }
      ]
    },
    {
      "cell_type": "code",
      "source": [
        "# Membaca data transaksi\n",
        "outgoing_df = pd.read_excel(file_outgoing)\n",
        "outgoing_df"
      ],
      "metadata": {
        "id": "aJTYbR3gO473"
      },
      "execution_count": null,
      "outputs": []
    },
    {
      "cell_type": "code",
      "source": [
        "outgoing_df.info()"
      ],
      "metadata": {
        "colab": {
          "base_uri": "https://localhost:8080/"
        },
        "id": "dYlnWbgR5EnB",
        "outputId": "3fa2717a-7883-40ba-ce61-45610669bf97"
      },
      "execution_count": null,
      "outputs": [
        {
          "output_type": "stream",
          "name": "stdout",
          "text": [
            "<class 'pandas.core.frame.DataFrame'>\n",
            "RangeIndex: 303369 entries, 0 to 303368\n",
            "Data columns (total 12 columns):\n",
            " #   Column                               Non-Null Count   Dtype         \n",
            "---  ------                               --------------   -----         \n",
            " 0   Number                               303369 non-null  object        \n",
            " 1   Customer/RecordName                  303369 non-null  object        \n",
            " 2   Shipping Type                        303369 non-null  object        \n",
            " 3   Inventory Moves/Product/Record Name  303369 non-null  object        \n",
            " 4   Inventory Moves/Internal Quantity    303369 non-null  int64         \n",
            " 5   Pickup No                            303369 non-null  object        \n",
            " 6   Invoice No                           303369 non-null  object        \n",
            " 7   Sale Date                            303369 non-null  datetime64[ns]\n",
            " 8   Document No                          303369 non-null  object        \n",
            " 9   Done at                              303369 non-null  datetime64[ns]\n",
            " 10  Delay                                303369 non-null  int64         \n",
            " 11  State                                303369 non-null  object        \n",
            "dtypes: datetime64[ns](2), int64(2), object(8)\n",
            "memory usage: 27.8+ MB\n"
          ]
        }
      ]
    },
    {
      "cell_type": "code",
      "source": [
        "outgoing_df['Bulan'] = outgoing_df['Sale Date'].dt.month\n",
        "outgoing_df"
      ],
      "metadata": {
        "id": "QaPYoLtYO75_"
      },
      "execution_count": null,
      "outputs": []
    },
    {
      "cell_type": "markdown",
      "source": [
        "## Pemodelan Regresi Linier dengan Metode WLS"
      ],
      "metadata": {
        "id": "Q9eR0qGn8xnB"
      }
    },
    {
      "cell_type": "markdown",
      "source": [
        "### Label Encoder"
      ],
      "metadata": {
        "id": "w7dnV3gE9NmT"
      }
    },
    {
      "cell_type": "code",
      "source": [
        "# ENCODE DATASET dengan Drop 1 Kolom Shipping Type dan Bulan\n",
        "encoder = OneHotEncoder(sparse_output=False, drop='first')  # Drop satu kolom untuk menghindari dummy trap\n",
        "encoded_cols = encoder.fit_transform(outgoing_df[['Shipping Type', 'Bulan']])\n",
        "encoded_col_names = encoder.get_feature_names_out(['Shipping Type', 'Bulan'])"
      ],
      "metadata": {
        "id": "3xA5m1g982TO"
      },
      "execution_count": null,
      "outputs": []
    },
    {
      "cell_type": "code",
      "source": [
        "df_encoded = pd.DataFrame(encoded_cols, columns=encoded_col_names)"
      ],
      "metadata": {
        "id": "gTc8_pPN8_Fg"
      },
      "execution_count": null,
      "outputs": []
    },
    {
      "cell_type": "code",
      "source": [
        "df_final = pd.concat([outgoing_df.drop(columns=['Shipping Type', 'Bulan']), df_encoded], axis=1)\n",
        "df_final"
      ],
      "metadata": {
        "id": "VlubDLPSO-4C"
      },
      "execution_count": null,
      "outputs": []
    },
    {
      "cell_type": "markdown",
      "source": [
        "### Pemodelan"
      ],
      "metadata": {
        "id": "NINewApk9Rt9"
      }
    },
    {
      "cell_type": "code",
      "source": [
        "# Pisahkan X (fitur) dan y (target)\n",
        "X = df_final.drop(columns=['Delay'])\n",
        "y = df_final['Delay']"
      ],
      "metadata": {
        "id": "-WLWuElV9UOi"
      },
      "execution_count": null,
      "outputs": []
    },
    {
      "cell_type": "code",
      "source": [
        "# Memilih Variabel yang digunakan sebagai X\n",
        "X = df_final.drop(columns=['Delay', 'Number', 'State', 'Done at', 'Document No', 'Sale Date', 'Invoice No', 'Pickup No', 'Inventory Moves/Internal Quantity', 'Inventory Moves/Product/Record Name', 'Customer/RecordName'])"
      ],
      "metadata": {
        "id": "31hNboX59Wqb"
      },
      "execution_count": null,
      "outputs": []
    },
    {
      "cell_type": "code",
      "source": [
        "# Tambahkan konstanta untuk regresi\n",
        "X = sm.add_constant(X)"
      ],
      "metadata": {
        "id": "42SnwI0Y9lgc"
      },
      "execution_count": null,
      "outputs": []
    },
    {
      "cell_type": "code",
      "source": [
        "# # Drop baris dengan NaN\n",
        "# X = X.dropna()\n",
        "# y = y[X.index]  # Sinkronkan indeks X dan y"
      ],
      "metadata": {
        "id": "Hf3Z5Iu59qVD"
      },
      "execution_count": null,
      "outputs": []
    },
    {
      "cell_type": "code",
      "source": [
        "X.info()\n",
        "y.info()"
      ],
      "metadata": {
        "colab": {
          "base_uri": "https://localhost:8080/"
        },
        "id": "vNTEk8t598fo",
        "outputId": "50c4b39a-7635-4325-d650-f7043325af49"
      },
      "execution_count": null,
      "outputs": [
        {
          "output_type": "stream",
          "name": "stdout",
          "text": [
            "<class 'pandas.core.frame.DataFrame'>\n",
            "RangeIndex: 303369 entries, 0 to 303368\n",
            "Data columns (total 9 columns):\n",
            " #   Column                  Non-Null Count   Dtype  \n",
            "---  ------                  --------------   -----  \n",
            " 0   const                   303369 non-null  float64\n",
            " 1   Shipping Type_Expedisi  303369 non-null  float64\n",
            " 2   Shipping Type_Kirim     303369 non-null  float64\n",
            " 3   Bulan_2                 303369 non-null  float64\n",
            " 4   Bulan_3                 303369 non-null  float64\n",
            " 5   Bulan_4                 303369 non-null  float64\n",
            " 6   Bulan_5                 303369 non-null  float64\n",
            " 7   Bulan_6                 303369 non-null  float64\n",
            " 8   Bulan_7                 303369 non-null  float64\n",
            "dtypes: float64(9)\n",
            "memory usage: 20.8 MB\n",
            "<class 'pandas.core.series.Series'>\n",
            "Index: 303369 entries, 0 to 303368\n",
            "Series name: Delay\n",
            "Non-Null Count   Dtype\n",
            "--------------   -----\n",
            "303369 non-null  int64\n",
            "dtypes: int64(1)\n",
            "memory usage: 4.6 MB\n"
          ]
        }
      ]
    },
    {
      "cell_type": "code",
      "source": [
        "# Regresi WLS\n",
        "model = sm.WLS(y, X)\n",
        "results = model.fit()\n",
        "\n",
        "# Hasil regresi\n",
        "print(results.summary())"
      ],
      "metadata": {
        "colab": {
          "base_uri": "https://localhost:8080/"
        },
        "id": "qffUIR2y-Bk9",
        "outputId": "a1ab664f-b67a-4d24-c042-4a19b18086e2"
      },
      "execution_count": null,
      "outputs": [
        {
          "output_type": "stream",
          "name": "stdout",
          "text": [
            "                            WLS Regression Results                            \n",
            "==============================================================================\n",
            "Dep. Variable:                  Delay   R-squared:                       0.108\n",
            "Model:                            WLS   Adj. R-squared:                  0.108\n",
            "Method:                 Least Squares   F-statistic:                     4574.\n",
            "Date:                Thu, 12 Dec 2024   Prob (F-statistic):               0.00\n",
            "Time:                        08:24:31   Log-Likelihood:            -1.1764e+06\n",
            "No. Observations:              303369   AIC:                         2.353e+06\n",
            "Df Residuals:                  303360   BIC:                         2.353e+06\n",
            "Df Model:                           8                                         \n",
            "Covariance Type:            nonrobust                                         \n",
            "==========================================================================================\n",
            "                             coef    std err          t      P>|t|      [0.025      0.975]\n",
            "------------------------------------------------------------------------------------------\n",
            "const                     17.7061      0.076    234.269      0.000      17.558      17.854\n",
            "Shipping Type_Expedisi     2.5850      0.058     44.686      0.000       2.472       2.698\n",
            "Shipping Type_Kirim        0.3717      0.071      5.260      0.000       0.233       0.510\n",
            "Bulan_2                    3.2374      0.086     37.642      0.000       3.069       3.406\n",
            "Bulan_3                   -2.8756      0.088    -32.833      0.000      -3.047      -2.704\n",
            "Bulan_4                   -0.7820      0.086     -9.064      0.000      -0.951      -0.613\n",
            "Bulan_5                   -6.6873      0.079    -84.743      0.000      -6.842      -6.533\n",
            "Bulan_6                   -9.6333      0.080   -120.583      0.000      -9.790      -9.477\n",
            "Bulan_7                   -2.3574      0.075    -31.424      0.000      -2.504      -2.210\n",
            "==============================================================================\n",
            "Omnibus:                   233400.255   Durbin-Watson:                   0.017\n",
            "Prob(Omnibus):                  0.000   Jarque-Bera (JB):          7417565.179\n",
            "Skew:                           3.444   Prob(JB):                         0.00\n",
            "Kurtosis:                      26.224   Cond. No.                         10.0\n",
            "==============================================================================\n",
            "\n",
            "Notes:\n",
            "[1] Standard Errors assume that the covariance matrix of the errors is correctly specified.\n"
          ]
        }
      ]
    },
    {
      "cell_type": "markdown",
      "source": [
        "Didapatkan bahwa Shipping Type Ekspedisi signifikan terhadap Delay dan Bulan 2 (Februari) juga signifikan terhadap Delay. Hal ini berarti bahwa pada jenis pengiriman ekspedisi dan pada bulan Februari memiliki jumlah delay yang tinggi."
      ],
      "metadata": {
        "id": "-eFa8Xaw-H0Z"
      }
    },
    {
      "cell_type": "markdown",
      "source": [
        "# 3. ANALISIS SEGMENTASI PELANGGAN"
      ],
      "metadata": {
        "id": "i5NoateO4QAD"
      }
    },
    {
      "cell_type": "code",
      "source": [
        "# Hitung nilai R (Recency)\n",
        "most_recent_date = outgoing_df['Sale Date'].max()\n",
        "outgoing_df['R'] = (most_recent_date - outgoing_df['Sale Date']).dt.days\n",
        "\n",
        "# Hitung nilai F (Frequency)\n",
        "F_values = outgoing_df.groupby('Customer/RecordName')['Number'].nunique()\n",
        "\n",
        "# Hitung nilai M (Monetary)\n",
        "customer_quantity = outgoing_df.groupby('Customer/RecordName')['Inventory Moves/Internal Quantity'].sum().reset_index()\n",
        "customer_quantity.rename(columns={'Inventory Moves/Internal Quantity': 'M'}, inplace=True)\n",
        "\n",
        "# Gabungkan R, F, dan M ke DataFrame baru\n",
        "rfm_df = pd.DataFrame({'Customer': F_values.index, 'F': F_values.values})\n",
        "rfm_df = pd.merge(rfm_df, outgoing_df[['Customer/RecordName', 'R']], left_on='Customer', right_on='Customer/RecordName', how='left')\n",
        "rfm_df = pd.merge(rfm_df, customer_quantity[['Customer/RecordName', 'M']], left_on='Customer', right_on='Customer/RecordName', how='left')\n",
        "rfm_df = rfm_df[['Customer', 'R', 'F', 'M']]\n",
        "rfm_df.drop_duplicates(subset='Customer', inplace=True)\n",
        "\n",
        "# Tampilkan DataFrame RFM\n",
        "display(rfm_df)"
      ],
      "metadata": {
        "id": "5NL9GARsPGpZ"
      },
      "execution_count": null,
      "outputs": []
    },
    {
      "cell_type": "code",
      "source": [
        "# Buat kuartil untuk R, F, dan M\n",
        "rfm_df['R_Quartile'] = pd.qcut(rfm_df['R'], 4, labels=[4, 3, 2, 1])  # Recency: Semakin rendah semakin baik\n",
        "rfm_df['F_Quartile'] = pd.qcut(rfm_df['F'], 4, labels=[1, 2, 3, 4], duplicates='drop')  # Frequency: Semakin tinggi semakin baik\n",
        "rfm_df['M_Quartile'] = pd.qcut(rfm_df['M'], 4, labels=[1, 2, 3, 4], duplicates='drop')  # Monetary: Semakin tinggi semakin baik"
      ],
      "metadata": {
        "id": "_bJd6FqzCscV"
      },
      "execution_count": null,
      "outputs": []
    },
    {
      "cell_type": "code",
      "source": [
        "# Menampilkan rentang nilai untuk skor R\n",
        "print(\"Rentang nilai Recency (R):\")\n",
        "for i in range(1, 5):\n",
        "  # Filter DataFrame rfm_df berdasarkan R_Quartile\n",
        "  quartile_data = rfm_df[rfm_df['R_Quartile'] == i]\n",
        "\n",
        "  # Dapatkan nilai minimum dan maksimum dari kolom R\n",
        "  min_value = quartile_data['R'].min()\n",
        "  max_value = quartile_data['R'].max()\n",
        "\n",
        "  # Cetak rentang nilai untuk skor R saat ini\n",
        "  print(f\"Skor R {i}: {min_value} - {max_value}\")"
      ],
      "metadata": {
        "id": "8OKjuyRXA0ka",
        "colab": {
          "base_uri": "https://localhost:8080/"
        },
        "outputId": "430cfa61-ab60-4992-9608-273384270f50"
      },
      "execution_count": null,
      "outputs": [
        {
          "output_type": "stream",
          "name": "stdout",
          "text": [
            "Rentang nilai Recency (R):\n",
            "Skor R 1: 184 - 192\n",
            "Skor R 2: 155 - 183\n",
            "Skor R 3: 71 - 154\n",
            "Skor R 4: 0 - 70\n"
          ]
        }
      ]
    },
    {
      "cell_type": "code",
      "source": [
        "# Menampilkan rentang nilai untuk skor F\n",
        "print(\"\\nRentang nilai Frequency (F):\")\n",
        "for i in range(1, 5):\n",
        "  # Filter DataFrame rfm_df berdasarkan F_Quartile\n",
        "  quartile_data = rfm_df[rfm_df['F_Quartile'] == i]\n",
        "\n",
        "  # Dapatkan nilai minimum dan maksimum dari kolom F\n",
        "  min_value = quartile_data['F'].min()\n",
        "  max_value = quartile_data['F'].max()\n",
        "\n",
        "  # Cetak rentang nilai untuk skor F saat ini\n",
        "  print(f\"Skor F {i}: {min_value} - {max_value}\")"
      ],
      "metadata": {
        "id": "Sqjk1GGUBrCs",
        "colab": {
          "base_uri": "https://localhost:8080/"
        },
        "outputId": "1eaf9647-7bae-4404-c309-f435cfc7a9c4"
      },
      "execution_count": null,
      "outputs": [
        {
          "output_type": "stream",
          "name": "stdout",
          "text": [
            "\n",
            "Rentang nilai Frequency (F):\n",
            "Skor F 1: 1 - 2\n",
            "Skor F 2: 3 - 4\n",
            "Skor F 3: 5 - 10\n",
            "Skor F 4: 11 - 1680\n"
          ]
        }
      ]
    },
    {
      "cell_type": "code",
      "source": [
        "# Menampilkan rentang nilai untuk skor M\n",
        "print(\"\\nRentang nilai Monetary (M):\")\n",
        "for i in range(1, 5):\n",
        "  # Filter DataFrame rfm_df berdasarkan M_Quartile\n",
        "  quartile_data = rfm_df[rfm_df['M_Quartile'] == i]\n",
        "\n",
        "  # Dapatkan nilai minimum dan maksimum dari kolom M\n",
        "  min_value = quartile_data['M'].min()\n",
        "  max_value = quartile_data['M'].max()\n",
        "\n",
        "  # Cetak rentang nilai untuk skor M saat ini\n",
        "  print(f\"Skor M {i}: {min_value} - {max_value}\")"
      ],
      "metadata": {
        "id": "AfVlnMt7Bwbz",
        "colab": {
          "base_uri": "https://localhost:8080/"
        },
        "outputId": "c571dba7-013b-4479-9871-1c6b4a44190e"
      },
      "execution_count": null,
      "outputs": [
        {
          "output_type": "stream",
          "name": "stdout",
          "text": [
            "\n",
            "Rentang nilai Monetary (M):\n",
            "Skor M 1: 1 - 60\n",
            "Skor M 2: 61 - 416\n",
            "Skor M 3: 417 - 1732\n",
            "Skor M 4: 1737 - 3436339\n"
          ]
        }
      ]
    },
    {
      "cell_type": "code",
      "source": [
        "# Buat kuartil untuk R, F, dan M\n",
        "rfm_df['R_Quartile'] = pd.qcut(rfm_df['R'], 4, labels=[4, 3, 2, 1])  # Recency: Semakin rendah semakin baik\n",
        "rfm_df['F_Quartile'] = pd.qcut(rfm_df['F'], 4, labels=[1, 2, 3, 4], duplicates='drop')  # Frequency: Semakin tinggi semakin baik\n",
        "rfm_df['M_Quartile'] = pd.qcut(rfm_df['M'], 4, labels=[1, 2, 3, 4], duplicates='drop')  # Monetary: Semakin tinggi semakin baik\n",
        "\n",
        "\n",
        "# Tampilkan DataFrame RFM dengan kuartil\n",
        "display(rfm_df)"
      ],
      "metadata": {
        "id": "zTvex7yMPKwW"
      },
      "execution_count": null,
      "outputs": []
    },
    {
      "cell_type": "markdown",
      "source": [
        "#### PELANGGAN TERBAIK"
      ],
      "metadata": {
        "id": "XsyPBp7eByuL"
      }
    },
    {
      "cell_type": "code",
      "source": [
        "# Filter pelanggan dengan skor RFM 4 4 4\n",
        "best_customers = rfm_df[(rfm_df['R_Quartile'] == 4) & (rfm_df['F_Quartile'] == 4) & (rfm_df['M_Quartile'] == 4)]\n",
        "\n",
        "# Tampilkan pelanggan terbaik\n",
        "print(\"Pelanggan Terbaik (RFM 4 4 4):\")\n",
        "display(best_customers)"
      ],
      "metadata": {
        "id": "R4Z1jh-gPNnR"
      },
      "execution_count": null,
      "outputs": []
    },
    {
      "cell_type": "markdown",
      "source": [
        "#### PELANGGAN LOYAL"
      ],
      "metadata": {
        "id": "oktVSSb7B1qD"
      }
    },
    {
      "cell_type": "code",
      "source": [
        "# Filter pelanggan loyal\n",
        "loyal_customers = rfm_df[\n",
        "    (rfm_df['R_Quartile'].astype(int) >= 3) &  # R ≥ 3\n",
        "    (rfm_df['F_Quartile'] == 4) &  # F = 4\n",
        "    (rfm_df['M_Quartile'].astype(int) >= 3) &  # M ≥ 3\n",
        "    ~((rfm_df['R_Quartile'] == 4) & (rfm_df['F_Quartile'] == 4) & (rfm_df['M_Quartile'] == 4))  # Tidak termasuk RFM 4 4 4\n",
        "]\n",
        "\n",
        "print(\"Pelanggan Loyal:\")\n",
        "display(loyal_customers)\n",
        "loyal_customers.shape[0]"
      ],
      "metadata": {
        "id": "Ix4wB2DUPP7l"
      },
      "execution_count": null,
      "outputs": []
    },
    {
      "cell_type": "markdown",
      "source": [
        "#### PELANGGAN BARU AKHIR-AKHIR INI"
      ],
      "metadata": {
        "id": "7m6uq63iB64L"
      }
    },
    {
      "cell_type": "code",
      "source": [
        "# Filter pelanggan baru akhir-akhir ini\n",
        "recent_new_customers = rfm_df[\n",
        "    (rfm_df['R_Quartile'] == 4) &  # R = 4\n",
        "    (rfm_df['F_Quartile'] == 1) &  # F = 1\n",
        "    (rfm_df['M_Quartile'].astype(int) >= 1)  # M ≥ 1\n",
        "]\n",
        "\n",
        "print(\"Pelanggan Baru Akhir-akhir ini:\")\n",
        "display(recent_new_customers)"
      ],
      "metadata": {
        "id": "qy7e_u7HPSGJ"
      },
      "execution_count": null,
      "outputs": []
    },
    {
      "cell_type": "markdown",
      "source": [
        "#### PELANGGAN BARU YANG MENJANJIKAN"
      ],
      "metadata": {
        "id": "dIW_ZAnZCBXm"
      }
    },
    {
      "cell_type": "code",
      "source": [
        "# Filter pelanggan baru yang menjanjikan\n",
        "promising_new_customers = rfm_df[\n",
        "    (rfm_df['R_Quartile'] == 4) &  # R = 4\n",
        "    (rfm_df['F_Quartile'] == 1) &  # F = 1\n",
        "    (rfm_df['M_Quartile'].astype(int) >= 3)  # M ≥ 3\n",
        "]\n",
        "\n",
        "print(\"Pelanggan Baru yang Menjanjikan:\")\n",
        "display(promising_new_customers)"
      ],
      "metadata": {
        "id": "-xdr2Pp1PUZv"
      },
      "execution_count": null,
      "outputs": []
    },
    {
      "cell_type": "markdown",
      "source": [
        "#### PELANGGAN COBA-COBA"
      ],
      "metadata": {
        "id": "PpZta3XDCEkd"
      }
    },
    {
      "cell_type": "code",
      "source": [
        "# Filter pelanggan yang coba-coba\n",
        "experimental_customers = rfm_df[\n",
        "    (rfm_df['R_Quartile'].astype(int) >= 1) & (rfm_df['R_Quartile'].astype(int) <= 3) &  # 1 ≤ R ≤ 3\n",
        "    (rfm_df['F_Quartile'] == 1) &  # F = 1\n",
        "    (rfm_df['M_Quartile'].astype(int) >= 1) & (rfm_df['M_Quartile'].astype(int) <= 4)  # 1 ≤ M ≤ 4\n",
        "]\n",
        "\n",
        "print(\"Pelanggan yang Coba-coba:\")\n",
        "display(experimental_customers)"
      ],
      "metadata": {
        "id": "zmGy5kQXPWQc"
      },
      "execution_count": null,
      "outputs": []
    },
    {
      "cell_type": "markdown",
      "source": [
        "#### PELANGGAN BERISIKO HILANG"
      ],
      "metadata": {
        "id": "W50q_FOWCKwv"
      }
    },
    {
      "cell_type": "code",
      "source": [
        "# Filter pelanggan berisiko hilang\n",
        "at_risk_customers = rfm_df[\n",
        "    (rfm_df['R_Quartile'].astype(int) >= 1) & (rfm_df['R_Quartile'].astype(int) <= 3) &  # 1 ≤ R ≤ 3\n",
        "    (rfm_df['F_Quartile'] >= 3) &  # F = 4\n",
        "    (rfm_df['M_Quartile'] >= 1)  # M = 1\n",
        "]\n",
        "\n",
        "# Tampilkan pelanggan berisiko hilang\n",
        "print(\"Pelanggan Beresiko Hilang (R=1-3, F=4, M>=1):\")\n",
        "display(at_risk_customers)"
      ],
      "metadata": {
        "id": "vP8l8Pk_PYXs"
      },
      "execution_count": null,
      "outputs": []
    },
    {
      "cell_type": "markdown",
      "source": [
        "### Pelanggan Aktif dengan Nilai Belanja Rendah"
      ],
      "metadata": {
        "id": "CEdy-c1vCQvD"
      }
    },
    {
      "cell_type": "code",
      "source": [
        "# Filter untuk segmen 'Pelanggan Aktif dengan Nilai Belanja Rendah'\n",
        "low_spending_active_customers = rfm_df[\n",
        "    (rfm_df['R_Quartile'].astype(int).isin([4])) &  # R = 3-4\n",
        "    (rfm_df['F_Quartile'].astype(int).isin([4, 3])) &  # F = 2-3\n",
        "    (rfm_df['M_Quartile'].astype(int).isin([1, 2]))  # M = 1-2\n",
        "]\n",
        "\n",
        "# Tampilkan pelanggan dalam segmen ini\n",
        "print(\"Pelanggan Aktif dengan Nilai Belanja Rendah:\")\n",
        "display(low_spending_active_customers)\n",
        "low_spending_active_customers.shape[0]"
      ],
      "metadata": {
        "id": "U285TCZEPbJd"
      },
      "execution_count": null,
      "outputs": []
    },
    {
      "cell_type": "markdown",
      "source": [
        "### Pelanggan tidak masuk segmen\n"
      ],
      "metadata": {
        "id": "5sTyv_JgFbwn"
      }
    },
    {
      "cell_type": "code",
      "source": [
        "# Gabungkan semua kondisi filter untuk semua segmen\n",
        "all_segments_condition = (\n",
        "    # Pelanggan Terbaik (R=4, F=4, M=4)\n",
        "    ((rfm_df['R_Quartile'] == 4) & (rfm_df['F_Quartile'] == 4) & (rfm_df['M_Quartile'] == 4)) |\n",
        "    # Pelanggan Loyal (R≥3, F=4, M≥3, excluding Best Customers)\n",
        "    ((rfm_df['R_Quartile'].astype(int) >= 3) & (rfm_df['F_Quartile'] == 4) & (rfm_df['M_Quartile'].astype(int) >= 3) &\n",
        "     ~((rfm_df['R_Quartile'] == 4) & (rfm_df['F_Quartile'] == 4) & (rfm_df['M_Quartile'] == 4))) |\n",
        "    # Pelanggan baru akhir akhir ini (R=4, F=1, M≥1)\n",
        "    ((rfm_df['R_Quartile'] == 4) & (rfm_df['F_Quartile'] == 1) & (rfm_df['M_Quartile'].astype(int) >= 1)) |\n",
        "    # Pelanggan baru yang menjanjikan (R=4, F=1, M≥3)\n",
        "    ((rfm_df['R_Quartile'] == 4) & (rfm_df['F_Quartile'] == 1) & (rfm_df['M_Quartile'].astype(int) >= 3)) |\n",
        "    # Pelanggan yang Coba-coba (R=1-3, F=1, M=1-4)\n",
        "    ((rfm_df['R_Quartile'].astype(int) >= 1) & (rfm_df['R_Quartile'].astype(int) <= 3) &\n",
        "     (rfm_df['F_Quartile'] == 1) & (rfm_df['M_Quartile'].astype(int) >= 1) & (rfm_df['M_Quartile'].astype(int) <= 4)) |\n",
        "    # Pelanggan beresiko hilang (R=1-3, F>=3, M>=1) # At Risk Customer\n",
        "    ((rfm_df['R_Quartile'].astype(int) >= 1) & (rfm_df['R_Quartile'].astype(int) <= 3) &\n",
        "     (rfm_df['F_Quartile'] >= 3) & (rfm_df['M_Quartile'] >= 1)) | # Added \"|\" to connect with the next condition\n",
        "    #elanggan Aktif dengan Nilai Belanja Rendah\n",
        "    ((rfm_df['R_Quartile'].astype(int).isin([3, 4])) & (rfm_df['F_Quartile'].astype(int).isin([4, 3])) & (rfm_df['M_Quartile'].astype(int).isin([1, 2])))  # M = 1-2\n",
        ")\n",
        "\n",
        "# Filter pelanggan yang TIDAK termasuk dalam semua segmen\n",
        "customers_outside_segments = rfm_df[~all_segments_condition]\n",
        "\n",
        "# Tampilkan pelanggan yang TIDAK termasuk dalam semua segmen\n",
        "print(\"Pelanggan di Luar Semua Segmen:\")\n",
        "display(customers_outside_segments)"
      ],
      "metadata": {
        "id": "B3RApbLkPdhP"
      },
      "execution_count": null,
      "outputs": []
    },
    {
      "cell_type": "markdown",
      "source": [
        "# 4. INSIGHT LAIN"
      ],
      "metadata": {
        "id": "y8IzZTwK-RSn"
      }
    },
    {
      "cell_type": "markdown",
      "source": [
        "## Kontribusi Pelanggan"
      ],
      "metadata": {
        "id": "gHBFQNBCJg8u"
      }
    },
    {
      "cell_type": "markdown",
      "source": [
        "### PELANGGAN DENGAN PEMBELIAN TERBESAR"
      ],
      "metadata": {
        "id": "N2fORkh9jY1c"
      }
    },
    {
      "cell_type": "code",
      "source": [
        "# Hitung total pembelian per pelanggan\n",
        "total_per_pelanggan = outgoing_df.groupby(\"Customer/RecordName\")[\"Inventory Moves/Internal Quantity\"].sum().reset_index()\n",
        "\n",
        "# Identifikasi pelanggan dengan pembelian terbanyak\n",
        "top_customer = total_per_pelanggan.loc[total_per_pelanggan[\"Inventory Moves/Internal Quantity\"].idxmax()]\n",
        "\n",
        "print(\"PELANGGAN DENGAN PEMBELIAN TERBESAR\")\n",
        "print(\"-\" * 40)\n",
        "print(f\"Nama Pelanggan    : {top_customer['Customer/RecordName']}\")\n",
        "print(f\"Total Pembelian   : {top_customer['Inventory Moves/Internal Quantity']:,}\")  # Format angka dengan koma\n",
        "print(\"-\" * 40)"
      ],
      "metadata": {
        "id": "sj7-LKYcN-v2"
      },
      "execution_count": null,
      "outputs": []
    },
    {
      "cell_type": "markdown",
      "source": [
        "### Kontribusi Pelanggan terhadap Penjualan"
      ],
      "metadata": {
        "id": "oJjyKtLOj2_J"
      }
    },
    {
      "cell_type": "code",
      "source": [
        "# Hitung total pembelian per pelanggan\n",
        "total_per_pelanggan = outgoing_df.groupby(\"Customer/RecordName\")[\"Inventory Moves/Internal Quantity\"].sum().reset_index()\n",
        "\n",
        "# Analisis frekuensi pembelian\n",
        "frekuensi_pembelian = outgoing_df.groupby(\"Customer/RecordName\")[\"Sale Date\"].count().reset_index()\n",
        "frekuensi_pembelian.columns = [\"Customer/RecordName\", \"purchase_frequency\"]\n",
        "\n",
        "# Gabungkan dengan total pembelian untuk analisis pola\n",
        "behavior_analysis = pd.merge(total_per_pelanggan, frekuensi_pembelian, on=\"Customer/RecordName\")\n",
        "\n",
        "# Hitung total penjualan keseluruhan\n",
        "total_penjualan = outgoing_df[\"Inventory Moves/Internal Quantity\"].sum()\n",
        "\n",
        "# Tambahkan kolom kontribusi di DataFrame\n",
        "behavior_analysis[\"contribution_percentage\"] = (\n",
        "    behavior_analysis[\"Inventory Moves/Internal Quantity\"] / total_penjualan * 100)\n",
        "\n",
        "# Ambil 10 pelanggan dengan pembelian tertinggi\n",
        "top_10_customers = behavior_analysis.sort_values(\"Inventory Moves/Internal Quantity\", ascending=False).head(10)\n",
        "\n",
        "print(\"ANALISIS POLA PEMBELIAN PELANGGAN\")\n",
        "print(\"-\" * 70)\n",
        "print(f\"{'Nama Pelanggan':<20}{'Total Pembelian':<20}{'Kontribusi (%)':<15}{'Frekuensi':<10}\")\n",
        "print(\"-\" * 70)\n",
        "\n",
        "for index, row in top_10_customers.iterrows():\n",
        "    print(f\"{row['Customer/RecordName']:<20}{row['Inventory Moves/Internal Quantity']:<20,}{row['contribution_percentage']:<15.2f}{row['purchase_frequency']:<10}\")\n",
        "\n",
        "print(\"-\" * 70)"
      ],
      "metadata": {
        "id": "bMQymwdzOFwn"
      },
      "execution_count": null,
      "outputs": []
    },
    {
      "cell_type": "code",
      "source": [
        "# Hitung total penjualan keseluruhan\n",
        "total_penjualan = outgoing_df[\"Inventory Moves/Internal Quantity\"].sum()\n",
        "\n",
        "# Tambahkan kolom kontribusi di DataFrame\n",
        "total_per_pelanggan[\"contribution_percentage\"] = (\n",
        "    total_per_pelanggan[\"Inventory Moves/Internal Quantity\"] / total_penjualan * 100)\n",
        "\n",
        "# Lihat kontribusi pelanggan terbesar\n",
        "top_customer_contribution = total_per_pelanggan.loc[total_per_pelanggan[\"Customer/RecordName\"] == top_customer[\"Customer/RecordName\"]]\n",
        "\n",
        "print(\"KONTRIBUSI PELANGGAN TOP TERHADAP TOTAL PENJUALAN\")\n",
        "print(\"-\" * 50)\n",
        "print(f\"Nama Pelanggan     : {top_customer_contribution['Customer/RecordName'].values[0]}\")\n",
        "print(f\"Total Pembelian    : {top_customer_contribution['Inventory Moves/Internal Quantity'].values[0]:,}\")\n",
        "print(f\"Kontribusi (%)     : {top_customer_contribution['contribution_percentage'].values[0]:.2f}%\")\n",
        "print(\"-\" * 50)"
      ],
      "metadata": {
        "id": "w33-QKMlj3Zn"
      },
      "execution_count": null,
      "outputs": []
    },
    {
      "cell_type": "markdown",
      "source": [
        "### JIKA PELANGGAN BERHENTI BERLANGGANAN"
      ],
      "metadata": {
        "id": "8-GrwixEkmLA"
      }
    },
    {
      "cell_type": "code",
      "source": [
        "# Total penjualan semua pelanggan\n",
        "total_penjualan = outgoing_df[\"Inventory Moves/Internal Quantity\"].sum()\n",
        "\n",
        "# total penjualan\n",
        "print(\"Total semua penjualan:\", f\"{total_penjualan:,}\")"
      ],
      "metadata": {
        "id": "Usa21CAFov5_"
      },
      "execution_count": null,
      "outputs": []
    },
    {
      "cell_type": "code",
      "source": [
        "# Jika pelanggan berhenti\n",
        "penjualan_tanpa_top = total_penjualan - top_customer[\"Inventory Moves/Internal Quantity\"]\n",
        "\n",
        "print(\"Penjualan dengan pelanggan aktif:\", f\"{total_penjualan:,}\")\n",
        "print(\"Penjualan tanpa pelanggan tersebut:\", f\"{penjualan_tanpa_top:,}\")\n",
        "print(\"Penurunan dalam penjualan:\", f\"{total_penjualan - penjualan_tanpa_top:,}\")"
      ],
      "metadata": {
        "id": "RpaOaYzwkPY2"
      },
      "execution_count": null,
      "outputs": []
    },
    {
      "cell_type": "code",
      "source": [
        "# Menghitung total penjualan tanpa pelanggan terbesar\n",
        "penjualan_tanpa_top = total_penjualan - top_customer[\"Inventory Moves/Internal Quantity\"]\n",
        "\n",
        "# Menghitung penurunan penjualan\n",
        "penurunan_penjualan = total_penjualan - penjualan_tanpa_top\n",
        "\n",
        "# Menghitung persentase penurunan\n",
        "penurunan_persen = (penurunan_penjualan / total_penjualan) * 100\n",
        "\n",
        "# Tampilkan hasil\n",
        "print(\"Penurunan dalam penjualan:\", f\"{penurunan_penjualan:,}\")\n",
        "print(\"Penurunan dalam persentase:\", f\"{penurunan_persen:.2f}%\")"
      ],
      "metadata": {
        "id": "CQCgVMWEp2WZ"
      },
      "execution_count": null,
      "outputs": []
    },
    {
      "cell_type": "markdown",
      "source": [
        "Dari keseluruhan persentase penjualan produk, angka tertinggi yaitu sebesar 15% oleh pelanggan dengan nama AB*******. Hal ini mengartikan bahwa kondisi penjualan pada Perusahaan A tidak hanya bergantung pada satu pelanggan besar saja, sehingga jika pelanggan AB*******. berhenti berlangganan pada Perusahaan A, maka tidak mengganggu kondisi pasar Perusahaan A."
      ],
      "metadata": {
        "id": "uuSPhU9aQK_S"
      }
    }
  ]
}