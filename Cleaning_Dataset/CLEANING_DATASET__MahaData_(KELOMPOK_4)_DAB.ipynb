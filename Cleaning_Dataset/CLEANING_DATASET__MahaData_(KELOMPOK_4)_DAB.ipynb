{
  "nbformat": 4,
  "nbformat_minor": 0,
  "metadata": {
    "colab": {
      "provenance": [],
      "collapsed_sections": [
        "HSJR6m1vdvnG",
        "vecEfthVdyDd",
        "mrtcOa7bm-JC",
        "RWc7LdYAlk_m",
        "ojOSQ9GClp4d",
        "BMdAz_3ud00Q",
        "Lluf75AHnFsk",
        "Or0FgNKsnR4h",
        "Nqz1w9c8n8Wa",
        "0VfNbMx5n_z-",
        "6xqjoZF9qZzw",
        "Y8Tpj27IslpZ",
        "v_i2hH2LtT9-",
        "h5AhEGvEtuqT",
        "HyL9Ds6Pd2yM",
        "WAl-E0wduGQV",
        "ovXsm9Z6uMBh",
        "G44S-0BcumQh",
        "WwX8E_NSvG2a",
        "Fm1_StBIvV-Y",
        "2a_PDGl4d42S",
        "6jBnUa3cvyTK",
        "4k6nkhGGxoAE",
        "_ZW6ff7ewLCZ",
        "b0RHCKDrwnk8",
        "BDkBiz4axCu_",
        "sReLN7EEd8rA",
        "CLJf9hFiyEnG",
        "_OhfastnyS9O",
        "iu5eJAnnya7m",
        "nZloj65py7FP",
        "OdxJai2Ey-IO",
        "c-cBNpGHzWRH",
        "JZCqk0hFzq8I",
        "i_tchfDwyIuo",
        "zJ8yUgy1z-7z",
        "rA1cfPdIz-8H",
        "82CBquodz-8G",
        "NvriGD-vz-8F",
        "RsATz0g5z-8I",
        "X5m9zMjhz-8J"
      ],
      "include_colab_link": true
    },
    "kernelspec": {
      "name": "python3",
      "display_name": "Python 3"
    },
    "language_info": {
      "name": "python"
    }
  },
  "cells": [
    {
      "cell_type": "markdown",
      "metadata": {
        "id": "view-in-github",
        "colab_type": "text"
      },
      "source": [
        "<a href=\"https://colab.research.google.com/github/gigisy/Capstone-SP-IPT/blob/main/Cleaning_Dataset/CLEANING_DATASET__MahaData_(KELOMPOK_4)_DAB.ipynb\" target=\"_parent\"><img src=\"https://colab.research.google.com/assets/colab-badge.svg\" alt=\"Open In Colab\"/></a>"
      ]
    },
    {
      "cell_type": "code",
      "execution_count": null,
      "metadata": {
        "id": "iSvrPdU8dP95"
      },
      "outputs": [],
      "source": [
        "import pandas as pd\n",
        "import re"
      ]
    },
    {
      "cell_type": "markdown",
      "source": [
        "# IMPORT DATASET"
      ],
      "metadata": {
        "id": "HSJR6m1vdvnG"
      }
    },
    {
      "cell_type": "code",
      "source": [
        "from google.colab import drive\n",
        "drive.mount('/content/drive')"
      ],
      "metadata": {
        "id": "Lrmq6f0eMcy3"
      },
      "execution_count": null,
      "outputs": []
    },
    {
      "cell_type": "code",
      "source": [
        "# Baca Dataset\n",
        "path = '/content/drive/MyDrive/Data Proyek/Proyek Akhir/'\n",
        "\n",
        "outgoing_df = pd.read_excel(path + \"OUTGOING 7 BULAN.xlsx\")\n",
        "incoming_df = pd.read_excel(path + \"combined_incoming.xlsx\")\n",
        "mvline_df = pd.read_excel(path + \"mvline_gabungan.xlsx\")\n",
        "barang_out_df = pd.read_excel(path + \"DATA BARANG OUT FROM ANY LOCATION (WMS).xlsx\")\n",
        "customer_df = pd.read_excel(path + \"customers.xlsx\")\n",
        "supplier_df = pd.read_excel(path + \"CUSTOMER SUPPLIER.xlsx\")"
      ],
      "metadata": {
        "id": "F_1158aLMfPy"
      },
      "execution_count": null,
      "outputs": []
    },
    {
      "cell_type": "markdown",
      "source": [
        "# **CLEANING OUTGOING**"
      ],
      "metadata": {
        "id": "vecEfthVdyDd"
      }
    },
    {
      "cell_type": "markdown",
      "source": [
        "## Cek Tipe Data"
      ],
      "metadata": {
        "id": "mrtcOa7bm-JC"
      }
    },
    {
      "cell_type": "code",
      "source": [
        "outgoing_df"
      ],
      "metadata": {
        "id": "SrGP4izFeIpp"
      },
      "execution_count": null,
      "outputs": []
    },
    {
      "cell_type": "code",
      "source": [
        "outgoing_df = outgoing_df.fillna(method='ffill')\n",
        "display(outgoing_df)"
      ],
      "metadata": {
        "id": "9YohNb7yjrvY"
      },
      "execution_count": null,
      "outputs": []
    },
    {
      "cell_type": "code",
      "source": [
        "outgoing_df.info()"
      ],
      "metadata": {
        "id": "8Cxmmk61kC4R"
      },
      "execution_count": null,
      "outputs": []
    },
    {
      "cell_type": "markdown",
      "source": [
        "## Perbaikan Format Tipe"
      ],
      "metadata": {
        "id": "RWc7LdYAlk_m"
      }
    },
    {
      "cell_type": "code",
      "source": [
        "outgoing_df['Done at'] = pd.to_datetime(outgoing_df['Done at'], format='%Y/%m/%d %H:%M:%S', errors='coerce')\n",
        "outgoing_df['Done at'] = outgoing_df['Done at'].dt.date\n",
        "display(outgoing_df)"
      ],
      "metadata": {
        "id": "9UYQWEykj8l9"
      },
      "execution_count": null,
      "outputs": []
    },
    {
      "cell_type": "code",
      "source": [
        "outgoing_df.info()"
      ],
      "metadata": {
        "id": "4BN33GPQkIxr"
      },
      "execution_count": null,
      "outputs": []
    },
    {
      "cell_type": "code",
      "source": [
        "outgoing_df['Sale Date'] = outgoing_df['Sale Date'].astype(str)\n",
        "outgoing_df['Done at'] = outgoing_df['Done at'].astype(str)\n",
        "outgoing_df.info()"
      ],
      "metadata": {
        "id": "oftawkT3kL61"
      },
      "execution_count": null,
      "outputs": []
    },
    {
      "cell_type": "code",
      "source": [
        "def convert_to_datetime(date_str):\n",
        "    try:\n",
        "        return pd.to_datetime(date_str, format='%Y-%d-%m')  # 'Sale Date'\n",
        "    except ValueError:\n",
        "        try:\n",
        "            return pd.to_datetime(date_str, format='%Y-%m-%d')  # 'Done at'\n",
        "        except ValueError:\n",
        "            try:\n",
        "                return pd.to_datetime(date_str, format='%d-%m-%Y')  # Format untuk 'Done at' yang salah (DD-MM-YYYY) atau format lain yang mungkin\n",
        "            except ValueError:\n",
        "                return pd.NaT  # Jika semua format gagal, tetapkan sebagai NaT\n",
        "\n",
        "outgoing_df['Sale Date'] = outgoing_df['Sale Date'].apply(convert_to_datetime)\n",
        "outgoing_df['Done at'] = outgoing_df['Done at'].apply(convert_to_datetime)\n",
        "print(outgoing_df.dtypes)"
      ],
      "metadata": {
        "id": "hKkL57VUkXp4"
      },
      "execution_count": null,
      "outputs": []
    },
    {
      "cell_type": "code",
      "source": [
        "outgoing_df['Sale Date'] = pd.to_datetime(outgoing_df['Sale Date'], format='%Y-%d-%m', errors='coerce')\n",
        "outgoing_df['Done at'] = pd.to_datetime(outgoing_df['Done at'], format='%Y-%m-%d', errors='coerce')\n",
        "# Menangani NaT dengan format yang sesuai"
      ],
      "metadata": {
        "id": "g2t3M_qnlAGF"
      },
      "execution_count": null,
      "outputs": []
    },
    {
      "cell_type": "code",
      "source": [
        "def hitung_nilai_sebenarnya(nilai):\n",
        "  \"\"\"Menghitung nilai sebenarnya berdasarkan kondisi.\"\"\"\n",
        "  try:\n",
        "    # Ganti titik dengan koma jika ada titik sebagai pemisah desimal\n",
        "    nilai = str(nilai).replace('.', ',')\n",
        "    parts = nilai.split(',')\n",
        "    if len(parts) > 1 and parts[1] != '0':\n",
        "      return float(nilai.replace(',', '.')) * 1000  # Kembalikan ke titik untuk perkalian\n",
        "    else:\n",
        "      return float(nilai.replace(',', '.'))  # Kembalikan ke titik\n",
        "  except (ValueError, TypeError):\n",
        "    return float(nilai)\n",
        "\n",
        "outgoing_df['Inventory Moves/Internal Quantity'] = outgoing_df['Inventory Moves/Internal Quantity'].apply(hitung_nilai_sebenarnya)"
      ],
      "metadata": {
        "id": "r3Ac4ylLlJ1q"
      },
      "execution_count": null,
      "outputs": []
    },
    {
      "cell_type": "code",
      "source": [
        "outgoing_df['Delay'] = outgoing_df['Done at'] - outgoing_df['Sale Date']"
      ],
      "metadata": {
        "id": "pZlmOYaQlTnq"
      },
      "execution_count": null,
      "outputs": []
    },
    {
      "cell_type": "code",
      "source": [
        "outgoing_df"
      ],
      "metadata": {
        "id": "6vfN--dSlb-g"
      },
      "execution_count": null,
      "outputs": []
    },
    {
      "cell_type": "code",
      "source": [
        "outgoing_df.iloc[[5518]]"
      ],
      "metadata": {
        "id": "okzBkH44lelm"
      },
      "execution_count": null,
      "outputs": []
    },
    {
      "cell_type": "markdown",
      "source": [
        "## Cleaning Data"
      ],
      "metadata": {
        "id": "ojOSQ9GClp4d"
      }
    },
    {
      "cell_type": "code",
      "source": [
        "duplicate_rows = outgoing_df[outgoing_df.duplicated(keep='first')]\n",
        "duplicate_rows"
      ],
      "metadata": {
        "id": "PeJPDdxhlr_b"
      },
      "execution_count": null,
      "outputs": []
    },
    {
      "cell_type": "code",
      "source": [
        "all_duplicate_rows = outgoing_df[outgoing_df.duplicated(keep=False)]\n",
        "all_duplicate_rows"
      ],
      "metadata": {
        "id": "GXz1wekll8FJ"
      },
      "execution_count": null,
      "outputs": []
    },
    {
      "cell_type": "code",
      "source": [
        "outgoing_df.drop_duplicates(keep='first', inplace=True)"
      ],
      "metadata": {
        "id": "qAFceraBmD99"
      },
      "execution_count": null,
      "outputs": []
    },
    {
      "cell_type": "code",
      "source": [
        "remaining_duplicates = outgoing_df[outgoing_df.duplicated(keep=False)]\n",
        "remaining_duplicates"
      ],
      "metadata": {
        "id": "fbdVVugLmJt0"
      },
      "execution_count": null,
      "outputs": []
    },
    {
      "cell_type": "code",
      "source": [
        "empty_rows = outgoing_df[outgoing_df.isnull().any(axis=1)]\n",
        "empty_rows"
      ],
      "metadata": {
        "id": "nLbdkKIzmQhW"
      },
      "execution_count": null,
      "outputs": []
    },
    {
      "cell_type": "code",
      "source": [
        "zero_quantity_rows = outgoing_df[outgoing_df['Inventory Moves/Internal Quantity'] == 0]\n",
        "zero_quantity_rows"
      ],
      "metadata": {
        "id": "KI1duAIFmWBV"
      },
      "execution_count": null,
      "outputs": []
    },
    {
      "cell_type": "code",
      "source": [
        "# Baris-baris yang ingin dihapus\n",
        "index_to_drop = outgoing_df[outgoing_df['Inventory Moves/Internal Quantity'] == 0].index\n",
        "\n",
        "# Hapus baris-baris\n",
        "outgoing_df = outgoing_df.drop(index_to_drop)"
      ],
      "metadata": {
        "id": "zPuO48Q5mcBJ"
      },
      "execution_count": null,
      "outputs": []
    },
    {
      "cell_type": "code",
      "source": [
        "zero_quantity_rows = outgoing_df[outgoing_df['Inventory Moves/Internal Quantity'] == 0]\n",
        "zero_quantity_rows"
      ],
      "metadata": {
        "id": "PtcPpf9wmsr5"
      },
      "execution_count": null,
      "outputs": []
    },
    {
      "cell_type": "code",
      "source": [
        "outgoing_df"
      ],
      "metadata": {
        "id": "-1UeHl0Jmch7"
      },
      "execution_count": null,
      "outputs": []
    },
    {
      "cell_type": "code",
      "source": [
        "# Display basic statistics for the 'outgoing_df' DataFrame.\n",
        "outgoing_df.describe()"
      ],
      "metadata": {
        "id": "sVKRk75MmdDl"
      },
      "execution_count": null,
      "outputs": []
    },
    {
      "cell_type": "markdown",
      "source": [
        "# **CLEANING INCOMING**"
      ],
      "metadata": {
        "id": "BMdAz_3ud00Q"
      }
    },
    {
      "cell_type": "markdown",
      "source": [
        "## Cek Tipe Data"
      ],
      "metadata": {
        "id": "Lluf75AHnFsk"
      }
    },
    {
      "cell_type": "code",
      "source": [
        "incoming_df"
      ],
      "metadata": {
        "id": "4bhHT9OTeJP3"
      },
      "execution_count": null,
      "outputs": []
    },
    {
      "cell_type": "code",
      "source": [
        "incoming_df.info()"
      ],
      "metadata": {
        "id": "A8lgVs3fnP3f"
      },
      "execution_count": null,
      "outputs": []
    },
    {
      "cell_type": "markdown",
      "source": [
        "## Mengatasi Missing Value"
      ],
      "metadata": {
        "id": "Or0FgNKsnR4h"
      }
    },
    {
      "cell_type": "code",
      "source": [
        "# Buat salinan dari DataFrame original\n",
        "df_filled = incoming_df.copy()\n",
        "\n",
        "# Isi NaN berdasarkan kondisi\n",
        "last_valid_row = None\n",
        "\n",
        "for i in range(len(incoming_df)):\n",
        "    current_row = df_filled.iloc[i]\n",
        "\n",
        "    # Jika baris saat ini memiliki Number dan Reference yang valid\n",
        "    if not pd.isna(current_row['Number']) and not pd.isna(current_row['Reference']):\n",
        "        last_valid_row = current_row\n",
        "\n",
        "    # Jika baris saat ini memiliki NaN dan ada last_valid_row\n",
        "    elif pd.isna(current_row['Number']) and last_valid_row is not None:\n",
        "        # Isi dengan nilai dari last_valid_row\n",
        "        df_filled.iloc[i, df_filled.columns.get_loc('Number')] = last_valid_row['Number']\n",
        "        df_filled.iloc[i, df_filled.columns.get_loc('Reference')] = last_valid_row['Reference']\n",
        "\n",
        "# Tampilkan hasil\n",
        "print(\"\\nHasil pengisian:\")\n",
        "display(df_filled)"
      ],
      "metadata": {
        "id": "sW-HRsdYnURe"
      },
      "execution_count": null,
      "outputs": []
    },
    {
      "cell_type": "code",
      "source": [
        "print(df_filled.iloc[17])"
      ],
      "metadata": {
        "id": "NWYLLQaWn3lz"
      },
      "execution_count": null,
      "outputs": []
    },
    {
      "cell_type": "markdown",
      "source": [
        "## Export Dataset"
      ],
      "metadata": {
        "id": "Nqz1w9c8n8Wa"
      }
    },
    {
      "cell_type": "code",
      "source": [
        "df_filled.to_excel('incoming_BENERPLISS.xlsx', index=False)"
      ],
      "metadata": {
        "id": "X-zdfgd6n5zj"
      },
      "execution_count": null,
      "outputs": []
    },
    {
      "cell_type": "markdown",
      "source": [
        "## Merubah Tanggal"
      ],
      "metadata": {
        "id": "0VfNbMx5n_z-"
      }
    },
    {
      "cell_type": "code",
      "source": [
        "from google.colab import drive\n",
        "drive.mount('/content/drive')\n",
        "file = '/content/drive/MyDrive/Data Proyek/Proyek Akhir/incoming_BENERPLISS.xlsx'"
      ],
      "metadata": {
        "id": "qfDhmZrvoCNn"
      },
      "execution_count": null,
      "outputs": []
    },
    {
      "cell_type": "code",
      "source": [
        "incoming_df1 = pd.read_excel(file)\n",
        "incoming_df1"
      ],
      "metadata": {
        "id": "MskZ3HyWoG7d"
      },
      "execution_count": null,
      "outputs": []
    },
    {
      "cell_type": "code",
      "source": [
        "incoming_df1['Planned Date']=pd.to_datetime(incoming_df1['Planned Date'], errors='coerce')"
      ],
      "metadata": {
        "id": "KzKLTzRQpuku"
      },
      "execution_count": null,
      "outputs": []
    },
    {
      "cell_type": "code",
      "source": [
        "incoming_df1['Planned Date']=incoming_df1['Planned Date'].dt.strftime('%Y-%m-%d')"
      ],
      "metadata": {
        "id": "i5KYKLWLpz8P"
      },
      "execution_count": null,
      "outputs": []
    },
    {
      "cell_type": "code",
      "source": [
        "incoming_df1"
      ],
      "metadata": {
        "id": "dgUrF3eUp5T_"
      },
      "execution_count": null,
      "outputs": []
    },
    {
      "cell_type": "code",
      "source": [
        "incoming_df1['Planned Date'].unique()"
      ],
      "metadata": {
        "id": "G6m4_YDTp88v"
      },
      "execution_count": null,
      "outputs": []
    },
    {
      "cell_type": "code",
      "source": [
        "incoming_df1.info()"
      ],
      "metadata": {
        "id": "sNMVdBZjqBsm"
      },
      "execution_count": null,
      "outputs": []
    },
    {
      "cell_type": "code",
      "source": [
        "def convert_to_datetime(date_str):\n",
        "    try:\n",
        "        return pd.to_datetime(date_str, format='%Y-%d-%m')  # 'Sale Date'\n",
        "    except ValueError:\n",
        "        try:\n",
        "            return pd.to_datetime(date_str, format='%Y-%m-%d')  # 'Done at'\n",
        "        except ValueError:\n",
        "            try:\n",
        "                return pd.to_datetime(date_str, format='%d-%m-%Y')  # Format untuk 'Done at' yang salah (DD-MM-YYYY) atau format lain yang mungkin\n",
        "            except ValueError:\n",
        "                return pd.NaT  # Jika semua format gagal, tetapkan sebagai NaT\n",
        "\n",
        "incoming_df1['Planned Date'] = incoming_df1['Planned Date'].apply(convert_to_datetime)\n",
        "incoming_df1.info()"
      ],
      "metadata": {
        "id": "MrG4X6hxqIBU"
      },
      "execution_count": null,
      "outputs": []
    },
    {
      "cell_type": "code",
      "source": [
        "incoming_df1"
      ],
      "metadata": {
        "id": "8-X0x0gsqYag"
      },
      "execution_count": null,
      "outputs": []
    },
    {
      "cell_type": "markdown",
      "source": [
        "## Mengubah Quantity"
      ],
      "metadata": {
        "id": "6xqjoZF9qZzw"
      }
    },
    {
      "cell_type": "code",
      "source": [
        "def format_quantity(quantity):\n",
        "    # Jika angka memiliki lebih dari satu koma, biarkan tanpa perubahan\n",
        "    if quantity.count(',') > 1:\n",
        "        return quantity\n",
        "\n",
        "    # Jika angka tidak memiliki koma dan titik desimal, kembalikan nilai asli\n",
        "    if ',' not in quantity and '.' not in quantity:\n",
        "        return quantity\n",
        "\n",
        "    # Jika ada koma di angka tetapi hanya satu, kita proses seperti biasa\n",
        "    if ',' in quantity:\n",
        "        # Hapus koma dan konversi ke float\n",
        "        quantity = float(quantity.replace(',', ''))\n",
        "\n",
        "        # Jika angka sudah memiliki tiga digit desimal atau lebih, biarkan seperti itu\n",
        "        if '.' in str(quantity) and len(str(quantity).split('.')[1]) >= 3:\n",
        "            return \"{:,.3f}\".format(quantity)  # Mempertahankan format dengan koma pemisah ribuan\n",
        "        else:\n",
        "            # Jika kurang dari tiga digit desimal, format menjadi tiga digit desimal\n",
        "            return \"{:,.3f}\".format(quantity)\n",
        "    else:\n",
        "        # Jika tidak ada koma tetapi ada titik desimal\n",
        "        if '.' in quantity:\n",
        "            # Konversi ke float dan tambahkan tiga digit desimal\n",
        "            return \"{:.3f}\".format(float(quantity))\n",
        "        else:\n",
        "            # Jika tidak ada koma dan tidak ada titik desimal, kembalikan nilai asli\n",
        "            return quantity\n",
        "\n",
        "# Terapkan fungsi ke kolom \"Incoming Moves/Internal Quantity\"\n",
        "incoming_df1['Incoming Moves/Internal Quantity'] = incoming_df1['Incoming Moves/Internal Quantity'].astype(str).apply(format_quantity)"
      ],
      "metadata": {
        "id": "ioQ_Dey6sW-W"
      },
      "execution_count": null,
      "outputs": []
    },
    {
      "cell_type": "code",
      "source": [
        "incoming_df1['Incoming Moves/Internal Quantity'].unique()"
      ],
      "metadata": {
        "id": "zRCJHRN8sjVQ"
      },
      "execution_count": null,
      "outputs": []
    },
    {
      "cell_type": "markdown",
      "source": [
        "## Mengatasi Duplikasi"
      ],
      "metadata": {
        "id": "Y8Tpj27IslpZ"
      }
    },
    {
      "cell_type": "code",
      "source": [
        "duplicate_rows = incoming_df1[incoming_df1.duplicated(keep='first')]\n",
        "duplicate_rows"
      ],
      "metadata": {
        "id": "G_hzkFNzsnl0"
      },
      "execution_count": null,
      "outputs": []
    },
    {
      "cell_type": "code",
      "source": [
        "all_duplicate_rows = incoming_df1[incoming_df1.duplicated(keep=False)]\n",
        "all_duplicate_rows"
      ],
      "metadata": {
        "id": "zKS424QKs30N"
      },
      "execution_count": null,
      "outputs": []
    },
    {
      "cell_type": "code",
      "source": [
        "df_unique = incoming_df1.drop_duplicates(keep='first')\n",
        "df_unique"
      ],
      "metadata": {
        "id": "S_E2F9tZs98i"
      },
      "execution_count": null,
      "outputs": []
    },
    {
      "cell_type": "code",
      "source": [
        "incoming_df.info()"
      ],
      "metadata": {
        "id": "hpFAz_WqtKWP"
      },
      "execution_count": null,
      "outputs": []
    },
    {
      "cell_type": "markdown",
      "source": [
        "## Mengubah Nama Produk"
      ],
      "metadata": {
        "id": "v_i2hH2LtT9-"
      }
    },
    {
      "cell_type": "code",
      "source": [
        "import re\n",
        "\n",
        "# ... (your existing code) ...\n",
        "\n",
        "# Hapus semua simbol selain angka dan huruf pada kolom 'Inventory Moves/Product/Record Name'\n",
        "incoming_df1['Incoming Moves/Product/Record Name'] = incoming_df1['Incoming Moves/Product/Record Name'].str.replace(r\"[^a-zA-Z0-9 ]\", \"\", regex=True)\n",
        "\n",
        "# ... (rest of your code, including creating top_10 and plotting) ..."
      ],
      "metadata": {
        "id": "JkywiI9rtWqF"
      },
      "execution_count": null,
      "outputs": []
    },
    {
      "cell_type": "code",
      "source": [
        "incoming_df1"
      ],
      "metadata": {
        "id": "MlcUDvbmtrzk"
      },
      "execution_count": null,
      "outputs": []
    },
    {
      "cell_type": "markdown",
      "source": [
        "## Export Dataset Incoming yang sudah clean"
      ],
      "metadata": {
        "id": "h5AhEGvEtuqT"
      }
    },
    {
      "cell_type": "code",
      "source": [
        "incoming_df1.to_excel('incoming_BISMILLAH.xlsx', index=False)"
      ],
      "metadata": {
        "id": "GeNaliUxtzBD"
      },
      "execution_count": null,
      "outputs": []
    },
    {
      "cell_type": "code",
      "source": [
        "from google.colab import files\n",
        "files.download('incoming_BISMILLAH.xlsx')"
      ],
      "metadata": {
        "id": "txl2uLoxt2YW"
      },
      "execution_count": null,
      "outputs": []
    },
    {
      "cell_type": "code",
      "source": [
        "# Display basic statistics for the 'outgoing_df' DataFrame.\n",
        "incoming_df1.describe()"
      ],
      "metadata": {
        "id": "I1bqEZKl7AKI"
      },
      "execution_count": null,
      "outputs": []
    },
    {
      "cell_type": "markdown",
      "source": [
        "# **CLEANING MVLINE**"
      ],
      "metadata": {
        "id": "HyL9Ds6Pd2yM"
      }
    },
    {
      "cell_type": "markdown",
      "source": [
        "## Cek Tipe Data"
      ],
      "metadata": {
        "id": "WAl-E0wduGQV"
      }
    },
    {
      "cell_type": "code",
      "source": [
        "mvline_df"
      ],
      "metadata": {
        "id": "-Mt1L92feJsi"
      },
      "execution_count": null,
      "outputs": []
    },
    {
      "cell_type": "code",
      "source": [
        "mvline_df.info()"
      ],
      "metadata": {
        "id": "zT4DWgv0uMSv"
      },
      "execution_count": null,
      "outputs": []
    },
    {
      "cell_type": "markdown",
      "source": [
        "## Cek Missing Value"
      ],
      "metadata": {
        "id": "ovXsm9Z6uMBh"
      }
    },
    {
      "cell_type": "code",
      "source": [
        "print(mvline_df.isnull().sum())"
      ],
      "metadata": {
        "id": "S-vEmyTpuRUE"
      },
      "execution_count": null,
      "outputs": []
    },
    {
      "cell_type": "code",
      "source": [
        "# Menampilkan semua baris yang memiliki setidaknya satu missing value\n",
        "baris_missing = mvline_df[mvline_df.isnull().any(axis=1)]\n",
        "baris_missing"
      ],
      "metadata": {
        "id": "B6Cm0VZ1uVtR"
      },
      "execution_count": null,
      "outputs": []
    },
    {
      "cell_type": "code",
      "source": [
        "# Hapus semua simbol selain angka dan huruf pada kolom 'Inventory Moves/Product/Record Name'\n",
        "mvline_df['Product/Record Name'] = mvline_df['Product/Record Name'].str.replace(r\"[^a-zA-Z0-9 ]\", \"\", regex=True)"
      ],
      "metadata": {
        "id": "lRFpODJhueWw"
      },
      "execution_count": null,
      "outputs": []
    },
    {
      "cell_type": "markdown",
      "source": [
        "## Cek Duplikasi"
      ],
      "metadata": {
        "id": "G44S-0BcumQh"
      }
    },
    {
      "cell_type": "code",
      "source": [
        "# Periksa duplikat di semua kolom\n",
        "duplikat = mvline_df[mvline_df.duplicated(keep=False)]\n",
        "\n",
        "# Tampilkan baris duplikat\n",
        "display(duplikat)\n",
        "\n",
        "# Hitung jumlah baris duplikat\n",
        "jumlah_duplikat = duplikat.shape[0]\n",
        "print(f\"Jumlah baris duplikat: {jumlah_duplikat}\")"
      ],
      "metadata": {
        "id": "QpxVm4dDuoC8"
      },
      "execution_count": null,
      "outputs": []
    },
    {
      "cell_type": "code",
      "source": [
        "all_duplicate_rows = mvline_df[mvline_df.duplicated(keep=False)]\n",
        "all_duplicate_rows"
      ],
      "metadata": {
        "id": "yDP4q6jIu0wK"
      },
      "execution_count": null,
      "outputs": []
    },
    {
      "cell_type": "code",
      "source": [
        "# hapus duplikat secara langsung di DataFrame asli (inplace)\n",
        "mvline_df.drop_duplicates(keep='first', inplace=True)"
      ],
      "metadata": {
        "id": "QGsDqb6cu7s3"
      },
      "execution_count": null,
      "outputs": []
    },
    {
      "cell_type": "code",
      "source": [
        "# Periksa duplikat di semua kolom\n",
        "duplikat = mvline_df[mvline_df.duplicated(keep=False)]\n",
        "\n",
        "# Tampilkan baris duplikat\n",
        "display(duplikat)\n",
        "\n",
        "# Hitung jumlah baris duplikat\n",
        "jumlah_duplikat = duplikat.shape[0]\n",
        "print(f\"Jumlah baris duplikat: {jumlah_duplikat}\")"
      ],
      "metadata": {
        "id": "CJpOZz_7u7bc"
      },
      "execution_count": null,
      "outputs": []
    },
    {
      "cell_type": "markdown",
      "source": [
        "## Drop Quantity yang bernilai nol (0)"
      ],
      "metadata": {
        "id": "WwX8E_NSvG2a"
      }
    },
    {
      "cell_type": "code",
      "source": [
        "# Filter baris dengan Quantity = 0\n",
        "nol = mvline_df[mvline_df['Quantity'] == 0]\n",
        "\n",
        "# Tampilkan baris dengan Quantity = 0\n",
        "display(nol)\n",
        "\n",
        "# Hitung jumlah baris dengan Quantity = 0\n",
        "all = nol.shape[0]\n",
        "print(f\"Jumlah baris dengan Quantity 0 : {all}\")"
      ],
      "metadata": {
        "id": "gjDhAwvxvKxa"
      },
      "execution_count": null,
      "outputs": []
    },
    {
      "cell_type": "code",
      "source": [
        "# Dapatkan index baris-baris yang ingin dihapus\n",
        "index_to_drop = mvline_df[mvline_df['Quantity'] == 0].index\n",
        "\n",
        "# Hapus baris-baris tersebut\n",
        "mvline_df = mvline_df.drop(index_to_drop)"
      ],
      "metadata": {
        "id": "RN8dnxxvvNb4"
      },
      "execution_count": null,
      "outputs": []
    },
    {
      "cell_type": "code",
      "source": [
        "# Filter baris dengan Quantity = 0\n",
        "nol = mvline_df[mvline_df['Quantity'] == 0]\n",
        "\n",
        "# Tampilkan baris dengan Quantity = 0\n",
        "display(nol)\n",
        "\n",
        "# Hitung jumlah baris dengan Quantity = 0\n",
        "all = nol.shape[0]\n",
        "print(f\"Jumlah baris dengan Quantity 0 : {all}\")"
      ],
      "metadata": {
        "id": "Lwp98a_ivPRb"
      },
      "execution_count": null,
      "outputs": []
    },
    {
      "cell_type": "code",
      "source": [
        "mvline_df.info()"
      ],
      "metadata": {
        "id": "iYn946r_vP_8"
      },
      "execution_count": null,
      "outputs": []
    },
    {
      "cell_type": "code",
      "source": [
        "mvline_df"
      ],
      "metadata": {
        "id": "mFZMPVi2vUe9"
      },
      "execution_count": null,
      "outputs": []
    },
    {
      "cell_type": "markdown",
      "source": [
        "## Export Dataset yang sudah clean"
      ],
      "metadata": {
        "id": "Fm1_StBIvV-Y"
      }
    },
    {
      "cell_type": "code",
      "source": [
        "mvline_df.to_excel('mvline_CLEAN.xlsx', index=False)"
      ],
      "metadata": {
        "id": "CKUnsZbrvVT2"
      },
      "execution_count": null,
      "outputs": []
    },
    {
      "cell_type": "code",
      "source": [
        "from google.colab import files\n",
        "files.download('mvline_CLEAN.xlsx')"
      ],
      "metadata": {
        "id": "i7pHiHkhva73"
      },
      "execution_count": null,
      "outputs": []
    },
    {
      "cell_type": "markdown",
      "source": [
        "# **CLEANING DATA BARANG OUT FROM ANY LOC**"
      ],
      "metadata": {
        "id": "2a_PDGl4d42S"
      }
    },
    {
      "cell_type": "markdown",
      "source": [
        "## Cek Tipe Data"
      ],
      "metadata": {
        "id": "6jBnUa3cvyTK"
      }
    },
    {
      "cell_type": "code",
      "source": [
        "barang_out_df"
      ],
      "metadata": {
        "id": "a7w4wtxaeK7f"
      },
      "execution_count": null,
      "outputs": []
    },
    {
      "cell_type": "code",
      "source": [
        "barang_out_df.info()"
      ],
      "metadata": {
        "id": "JzrkRz6Iv8Jf"
      },
      "execution_count": null,
      "outputs": []
    },
    {
      "cell_type": "code",
      "source": [
        "def hitung_nilai_sebenarnya(nilai):\n",
        "  \"\"\"Menghitung nilai sebenarnya berdasarkan kondisi.\"\"\"\n",
        "  try:\n",
        "    # Remove commas as thousands separators\n",
        "    nilai = str(nilai).replace(',', '')\n",
        "    # Replace dot with comma if present\n",
        "    nilai = nilai.replace('.', ',')\n",
        "    parts = nilai.split(',')\n",
        "    if len(parts) > 1 and parts[1] != '0':\n",
        "      return float(nilai.replace(',', '.')) * 1000  # Kembalikan ke titik untuk perkalian\n",
        "    else:\n",
        "      return float(nilai.replace(',', '.'))  # Kembalikan ke titik\n",
        "  except (ValueError, TypeError):\n",
        "    return float(nilai)  # If still fails, try directly as float\n",
        "\n",
        "barang_out_df['Quantity'] = barang_out_df['Quantity'].apply(hitung_nilai_sebenarnya)"
      ],
      "metadata": {
        "id": "Vdm_Lg5av-6X"
      },
      "execution_count": null,
      "outputs": []
    },
    {
      "cell_type": "code",
      "source": [
        "barang_out_df.info()"
      ],
      "metadata": {
        "id": "yipswFKEwCfG"
      },
      "execution_count": null,
      "outputs": []
    },
    {
      "cell_type": "code",
      "source": [
        "barang_out_df"
      ],
      "metadata": {
        "id": "pcI7Y5t1wElp"
      },
      "execution_count": null,
      "outputs": []
    },
    {
      "cell_type": "markdown",
      "source": [
        "## Merubah Format Nama Produk"
      ],
      "metadata": {
        "id": "4k6nkhGGxoAE"
      }
    },
    {
      "cell_type": "code",
      "source": [
        "barang_out_df['Product/Record Name'] = barang_out_df['Product/Record Name'].str.replace(';', '').str.replace(' ', '')"
      ],
      "metadata": {
        "id": "caHaMRXlxs8O"
      },
      "execution_count": null,
      "outputs": []
    },
    {
      "cell_type": "code",
      "source": [
        "import re\n",
        "\n",
        "barang_out_df['Product/Record Name'] = barang_out_df['Product/Record Name'].str.replace('[^a-zA-Z0-9]', '', regex=True)"
      ],
      "metadata": {
        "id": "hHobIqIMxxJV"
      },
      "execution_count": null,
      "outputs": []
    },
    {
      "cell_type": "markdown",
      "source": [
        "## Cek Duplikasi"
      ],
      "metadata": {
        "id": "_ZW6ff7ewLCZ"
      }
    },
    {
      "cell_type": "code",
      "source": [
        "# Periksa duplikat di semua kolom\n",
        "duplikat = barang_out_df[barang_out_df.duplicated(keep=False)]\n",
        "\n",
        "# Tampilkan baris duplikat\n",
        "display(duplikat)\n",
        "\n",
        "# Hitung jumlah baris duplikat\n",
        "jumlah_duplikat = duplikat.shape[0]\n",
        "print(f\"Jumlah baris duplikat: {jumlah_duplikat}\")"
      ],
      "metadata": {
        "id": "sbLdlCUXwKjR"
      },
      "execution_count": null,
      "outputs": []
    },
    {
      "cell_type": "code",
      "source": [
        "all_duplicate_rows = barang_out_df[barang_out_df.duplicated(keep=False)]\n",
        "all_duplicate_rows"
      ],
      "metadata": {
        "id": "gzEgzi_wwTyK"
      },
      "execution_count": null,
      "outputs": []
    },
    {
      "cell_type": "code",
      "source": [
        "# Hapus duplikat dan simpan ke DataFrame baru\n",
        "df_tanpa_duplikat = barang_out_df.drop_duplicates(keep='first')\n",
        "\n",
        "# Atau, hapus duplikat secara langsung di DataFrame asli (inplace)\n",
        "barang_out_df.drop_duplicates(keep='first', inplace=True)"
      ],
      "metadata": {
        "id": "Oj6xD_hKwdD2"
      },
      "execution_count": null,
      "outputs": []
    },
    {
      "cell_type": "code",
      "source": [
        "# Periksa duplikat di semua kolom\n",
        "duplikat = barang_out_df[barang_out_df.duplicated(keep=False)]\n",
        "\n",
        "# Tampilkan baris duplikat\n",
        "display(duplikat)\n",
        "\n",
        "# Hitung jumlah baris duplikat\n",
        "jumlah_duplikat = duplikat.shape[0]\n",
        "print(f\"Jumlah baris duplikat: {jumlah_duplikat}\")"
      ],
      "metadata": {
        "id": "hWYezIaEwizV"
      },
      "execution_count": null,
      "outputs": []
    },
    {
      "cell_type": "markdown",
      "source": [
        "## Drop Quantity yang Bernilai Nol (0)"
      ],
      "metadata": {
        "id": "b0RHCKDrwnk8"
      }
    },
    {
      "cell_type": "code",
      "source": [
        "# Filter baris dengan Quantity = 0\n",
        "nilai_nol = barang_out_df[barang_out_df['Quantity'] == 0]\n",
        "\n",
        "# Tampilkan baris dengan Quantity = 0\n",
        "display(nilai_nol)\n",
        "\n",
        "# Hitung jumlah baris dengan Quantity = 0\n",
        "jumlah_nol = nilai_nol.shape[0]\n",
        "print(f\"Jumlah baris dengan Quantity = 0: {jumlah_nol}\")"
      ],
      "metadata": {
        "id": "P2vumunowoGE"
      },
      "execution_count": null,
      "outputs": []
    },
    {
      "cell_type": "code",
      "source": [
        "# Dapatkan index baris-baris yang ingin dihapus\n",
        "index_to_drop = barang_out_df[barang_out_df['Quantity'] == 0].index\n",
        "\n",
        "# Hapus baris-baris tersebut\n",
        "barang_out_df = barang_out_df.drop(index_to_drop)"
      ],
      "metadata": {
        "id": "-E89vF6Rw6TE"
      },
      "execution_count": null,
      "outputs": []
    },
    {
      "cell_type": "code",
      "source": [
        "# Filter baris dengan Quantity = 0\n",
        "nilai_nol = barang_out_df[barang_out_df['Quantity'] == 0]\n",
        "\n",
        "# Tampilkan baris dengan Quantity = 0\n",
        "display(nilai_nol)\n",
        "\n",
        "# Hitung jumlah baris dengan Quantity = 0\n",
        "jumlah_nol = nilai_nol.shape[0]\n",
        "print(f\"Jumlah baris dengan Quantity = 0: {jumlah_nol}\")"
      ],
      "metadata": {
        "id": "0JqxKqVOxZZa"
      },
      "execution_count": null,
      "outputs": []
    },
    {
      "cell_type": "code",
      "source": [
        "barang_out_df"
      ],
      "metadata": {
        "id": "dn5aHCc5x2Eb"
      },
      "execution_count": null,
      "outputs": []
    },
    {
      "cell_type": "code",
      "source": [
        "barang_out_df.info()"
      ],
      "metadata": {
        "id": "JoQxeakVx4Dd"
      },
      "execution_count": null,
      "outputs": []
    },
    {
      "cell_type": "markdown",
      "source": [
        "## Export Dataset"
      ],
      "metadata": {
        "id": "BDkBiz4axCu_"
      }
    },
    {
      "cell_type": "code",
      "source": [
        "from google.colab import files\n",
        "\n",
        "# Simpan DataFrame ke file Excel\n",
        "barang_out_df.to_excel('barang out fix banget.xlsx', index=False)\n",
        "\n",
        "# Unduh file\n",
        "files.download('barang out fix banget.xlsx')"
      ],
      "metadata": {
        "id": "K3VoUwO4xEye"
      },
      "execution_count": null,
      "outputs": []
    },
    {
      "cell_type": "markdown",
      "source": [
        "# **CLEANING JAN-AUG24 CUSTOMER SUPPLIER**"
      ],
      "metadata": {
        "id": "sReLN7EEd8rA"
      }
    },
    {
      "cell_type": "markdown",
      "source": [
        "## **SHEETS CUSTOMER**"
      ],
      "metadata": {
        "id": "CLJf9hFiyEnG"
      }
    },
    {
      "cell_type": "markdown",
      "source": [
        "### Cek Tipe Data"
      ],
      "metadata": {
        "id": "_OhfastnyS9O"
      }
    },
    {
      "cell_type": "code",
      "source": [
        "customer_df"
      ],
      "metadata": {
        "id": "m8IkG9nJeMH0"
      },
      "execution_count": null,
      "outputs": []
    },
    {
      "cell_type": "code",
      "source": [
        "customer_df.info()"
      ],
      "metadata": {
        "id": "fMyHpANNyX78"
      },
      "execution_count": null,
      "outputs": []
    },
    {
      "cell_type": "markdown",
      "source": [
        "### Cek Missing Value"
      ],
      "metadata": {
        "id": "iu5eJAnnya7m"
      }
    },
    {
      "cell_type": "code",
      "source": [
        "print(customer_df.isnull().sum())"
      ],
      "metadata": {
        "id": "BdpKPfqvyak_"
      },
      "execution_count": null,
      "outputs": []
    },
    {
      "cell_type": "code",
      "source": [
        "# Menampilkan semua baris yang memiliki setidaknya satu missing value\n",
        "baris_missing = customer_df[customer_df.isnull().any(axis=1)]\n",
        "print(baris_missing)"
      ],
      "metadata": {
        "id": "QgHsHKYNyg3d"
      },
      "execution_count": null,
      "outputs": []
    },
    {
      "cell_type": "markdown",
      "source": [
        "### Mengubah Nama Produk"
      ],
      "metadata": {
        "id": "nZloj65py7FP"
      }
    },
    {
      "cell_type": "code",
      "source": [
        "# Hapus semua simbol selain angka dan huruf pada kolom PRODUCTID\n",
        "customer_df['PRODUCTID'] = customer_df['PRODUCTID'].str.replace(r\"[^a-zA-Z0-9 ]\", \"\", regex=True)"
      ],
      "metadata": {
        "id": "4OHwKre9ykqz"
      },
      "execution_count": null,
      "outputs": []
    },
    {
      "cell_type": "markdown",
      "source": [
        "### Cek Duplikasi"
      ],
      "metadata": {
        "id": "OdxJai2Ey-IO"
      }
    },
    {
      "cell_type": "code",
      "source": [
        "# Periksa duplikat di semua kolom\n",
        "duplikat = customer_df[customer_df.duplicated(keep=False)]\n",
        "\n",
        "# Tampilkan baris duplikat\n",
        "display(duplikat)\n",
        "\n",
        "# Hitung jumlah baris duplikat\n",
        "jumlah_duplikat = duplikat.shape[0]\n",
        "print(f\"Jumlah baris duplikat: {jumlah_duplikat}\")"
      ],
      "metadata": {
        "id": "vcAuCRC7zC7P"
      },
      "execution_count": null,
      "outputs": []
    },
    {
      "cell_type": "markdown",
      "source": [
        "### Drop QUANTITY = 0"
      ],
      "metadata": {
        "id": "c-cBNpGHzWRH"
      }
    },
    {
      "cell_type": "code",
      "source": [
        "# Filter baris dengan Quantity = 0\n",
        "nol = customer_df[customer_df['QTY'] == 0]\n",
        "\n",
        "# Tampilkan baris dengan Quantity = 0\n",
        "display(nol)\n",
        "\n",
        "# Hitung jumlah baris dengan Quantity = 0\n",
        "all = nol.shape[0]\n",
        "print(f\"Jumlah baris dengan Quantity 0 : {all}\")"
      ],
      "metadata": {
        "id": "CrYBD81rzZ4J"
      },
      "execution_count": null,
      "outputs": []
    },
    {
      "cell_type": "code",
      "source": [
        "customer_df"
      ],
      "metadata": {
        "id": "JseLeJHyzoZR"
      },
      "execution_count": null,
      "outputs": []
    },
    {
      "cell_type": "code",
      "source": [
        "customer_df.info()"
      ],
      "metadata": {
        "id": "RMSo1-9szmGb"
      },
      "execution_count": null,
      "outputs": []
    },
    {
      "cell_type": "markdown",
      "source": [
        "### Export Dataset"
      ],
      "metadata": {
        "id": "JZCqk0hFzq8I"
      }
    },
    {
      "cell_type": "code",
      "source": [
        "customer_df.to_excel('JAN-AUG24 CUSTOMER.xlsx', index=False)"
      ],
      "metadata": {
        "id": "HB47u-unzqqi"
      },
      "execution_count": null,
      "outputs": []
    },
    {
      "cell_type": "code",
      "source": [
        "from google.colab import files\n",
        "files.download('JAN-AUG24 CUSTOMER.xlsx')"
      ],
      "metadata": {
        "id": "Ye5PDAHdzveF"
      },
      "execution_count": null,
      "outputs": []
    },
    {
      "cell_type": "markdown",
      "source": [
        "## **SHEETS SUPPLIER**"
      ],
      "metadata": {
        "id": "i_tchfDwyIuo"
      }
    },
    {
      "cell_type": "markdown",
      "source": [
        "### Cek Tipe Data"
      ],
      "metadata": {
        "id": "zJ8yUgy1z-7z"
      }
    },
    {
      "cell_type": "code",
      "source": [
        "supplier_df"
      ],
      "metadata": {
        "id": "4WqY_Bitz-8E"
      },
      "execution_count": null,
      "outputs": []
    },
    {
      "cell_type": "code",
      "source": [
        "supplier_df.info()"
      ],
      "metadata": {
        "id": "126UPtsXz-8F"
      },
      "execution_count": null,
      "outputs": []
    },
    {
      "cell_type": "markdown",
      "source": [
        "### Cek Duplikasi"
      ],
      "metadata": {
        "id": "rA1cfPdIz-8H"
      }
    },
    {
      "cell_type": "code",
      "source": [
        "# Periksa duplikat di semua kolom\n",
        "duplikat = supplier_df[supplier_df.duplicated(keep=False)]\n",
        "\n",
        "# Tampilkan baris duplikat\n",
        "display(duplikat)\n",
        "\n",
        "# Hitung jumlah baris duplikat\n",
        "jumlah_duplikat = duplikat.shape[0]\n",
        "print(f\"Jumlah baris duplikat: {jumlah_duplikat}\")"
      ],
      "metadata": {
        "id": "yr54k9TUz-8H"
      },
      "execution_count": null,
      "outputs": []
    },
    {
      "cell_type": "markdown",
      "source": [
        "### Mengubah Nama Produk"
      ],
      "metadata": {
        "id": "82CBquodz-8G"
      }
    },
    {
      "cell_type": "code",
      "source": [
        "# Hapus semua simbol selain angka dan huruf pada kolom PRODUCTID\n",
        "supplier_df['PRODUCTID'] = supplier_df['PRODUCTID'].str.replace(r\"[^a-zA-Z0-9 ]\", \"\", regex=True)"
      ],
      "metadata": {
        "id": "_w5bSjhsz-8H"
      },
      "execution_count": null,
      "outputs": []
    },
    {
      "cell_type": "markdown",
      "source": [
        "### Cek Missing Value"
      ],
      "metadata": {
        "id": "NvriGD-vz-8F"
      }
    },
    {
      "cell_type": "code",
      "source": [
        "print(supplier_df.isnull().sum())"
      ],
      "metadata": {
        "id": "M6tGgMXzz-8G"
      },
      "execution_count": null,
      "outputs": []
    },
    {
      "cell_type": "code",
      "source": [
        "# Menampilkan semua baris yang memiliki setidaknya satu missing value\n",
        "baris_missing = supplier_df[supplier_df.isnull().any(axis=1)]\n",
        "print(baris_missing)"
      ],
      "metadata": {
        "id": "CAKCHtG7z-8G"
      },
      "execution_count": null,
      "outputs": []
    },
    {
      "cell_type": "markdown",
      "source": [
        "### Drop QUANTITY = 0"
      ],
      "metadata": {
        "id": "RsATz0g5z-8I"
      }
    },
    {
      "cell_type": "code",
      "source": [
        "# Filter baris dengan Quantity = 0\n",
        "nol = supplier_df[supplier_df['QTY'] == 0]\n",
        "\n",
        "# Tampilkan baris dengan Quantity = 0\n",
        "display(nol)\n",
        "\n",
        "# Hitung jumlah baris dengan Quantity = 0\n",
        "all = nol.shape[0]\n",
        "print(f\"Jumlah baris dengan Quantity 0 : {all}\")"
      ],
      "metadata": {
        "id": "4kc1FF-pz-8I"
      },
      "execution_count": null,
      "outputs": []
    },
    {
      "cell_type": "code",
      "source": [
        "supplier_df"
      ],
      "metadata": {
        "id": "FT74V-Wkz-8I"
      },
      "execution_count": null,
      "outputs": []
    },
    {
      "cell_type": "code",
      "source": [
        "supplier_df.info()"
      ],
      "metadata": {
        "id": "tBHYE3Wvz-8J"
      },
      "execution_count": null,
      "outputs": []
    },
    {
      "cell_type": "markdown",
      "source": [
        "### Export Dataset"
      ],
      "metadata": {
        "id": "X5m9zMjhz-8J"
      }
    },
    {
      "cell_type": "code",
      "source": [
        "supplier_df.to_excel('supplier.xlsx', index=False)"
      ],
      "metadata": {
        "id": "z-5AGfrjz-8J"
      },
      "execution_count": null,
      "outputs": []
    },
    {
      "cell_type": "code",
      "source": [
        "from google.colab import files\n",
        "files.download('supplier.xlsx')"
      ],
      "metadata": {
        "id": "oT0l-nXez-8J"
      },
      "execution_count": null,
      "outputs": []
    }
  ]
}